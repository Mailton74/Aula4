{
  "nbformat": 4,
  "nbformat_minor": 0,
  "metadata": {
    "colab": {
      "provenance": [],
      "authorship_tag": "ABX9TyPNfvb2lfcB3iFe54FMC+PD",
      "include_colab_link": true
    },
    "kernelspec": {
      "name": "python3",
      "display_name": "Python 3"
    },
    "language_info": {
      "name": "python"
    }
  },
  "cells": [
    {
      "cell_type": "markdown",
      "metadata": {
        "id": "view-in-github",
        "colab_type": "text"
      },
      "source": [
        "<a href=\"https://colab.research.google.com/github/Mailton74/Aula4/blob/main/PedraPapelTesoura1.ipynb\" target=\"_parent\"><img src=\"https://colab.research.google.com/assets/colab-badge.svg\" alt=\"Open In Colab\"/></a>"
      ]
    },
    {
      "cell_type": "code",
      "source": [
        "import random\n",
        "\n",
        "def play_round(player_choice, computer_choice):\n",
        "    if player_choice == computer_choice:\n",
        "        return \"Empate! Ambos escolheram {}\".format(player_choice)\n",
        "    elif (player_choice == \"Pedra\" and computer_choice == \"Tesoura\") or \\\n",
        "         (player_choice == \"Papel\" and computer_choice == \"Pedra\") or \\\n",
        "         (player_choice == \"Tesoura\" and computer_choice == \"Papel\"):\n",
        "        return \"Você ganhou! {} vence {}\".format(player_choice, computer_choice)\n",
        "    else:\n",
        "        return \"Você perdeu! {} vence {}\".format(computer_choice, player_choice)\n",
        "\n",
        "def game():\n",
        "    options = [\"Pedra\", \"Papel\", \"Tesoura\"]\n",
        "    for _ in range(5):\n",
        "        player_choice = input(\"Escolha: Pedra, Papel ou Tesoura? \").capitalize()\n",
        "        if player_choice not in options:\n",
        "            print(\"Escolha inválida. Tente novamente.\")\n",
        "            continue\n",
        "        computer_choice = random.choice(options)\n",
        "        print(play_round(player_choice, computer_choice))\n",
        "\n",
        "game()\n"
      ],
      "metadata": {
        "id": "sqH3HV3MJlna"
      },
      "execution_count": null,
      "outputs": []
    }
  ]
}